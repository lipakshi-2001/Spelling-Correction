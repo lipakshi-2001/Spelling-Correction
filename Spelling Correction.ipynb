{
 "cells": [
  {
   "cell_type": "markdown",
   "id": "3d12c90a",
   "metadata": {},
   "source": [
    "# Spelling Correction With Python"
   ]
  },
  {
   "cell_type": "code",
   "execution_count": 16,
   "id": "9d98932f",
   "metadata": {},
   "outputs": [
    {
     "name": "stdout",
     "output_type": "stream",
     "text": [
      "mum\n",
      "Wrong words : mum\n",
      "Corrected Words are :\n",
      "sum "
     ]
    }
   ],
   "source": [
    "from textblob import TextBlob\n",
    "words = input()\n",
    "#words = [\"Data Scence\", \"Mahine Learnin\"]\n",
    "corrected_words = []\n",
    "for i in words.split(\" \"):\n",
    "    corrected_words.append(TextBlob(i))\n",
    "print(\"Wrong words :\", words)\n",
    "print(\"Corrected Words are :\")\n",
    "for i in corrected_words:\n",
    "    print(i.correct(), end=\" \")"
   ]
  }
 ],
 "metadata": {
  "kernelspec": {
   "display_name": "Python 3",
   "language": "python",
   "name": "python3"
  },
  "language_info": {
   "codemirror_mode": {
    "name": "ipython",
    "version": 3
   },
   "file_extension": ".py",
   "mimetype": "text/x-python",
   "name": "python",
   "nbconvert_exporter": "python",
   "pygments_lexer": "ipython3",
   "version": "3.8.8"
  }
 },
 "nbformat": 4,
 "nbformat_minor": 5
}
